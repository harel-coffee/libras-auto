{
 "cells": [
  {
   "cell_type": "code",
   "execution_count": 1,
   "metadata": {},
   "outputs": [],
   "source": [
    "import pickle\n",
    "import numpy as np\n",
    "\n",
    "from sklearn.ensemble import RandomForestClassifier, GradientBoostingClassifier\n",
    "from sklearn.neighbors import KNeighborsClassifier\n",
    "from sklearn.svm import SVC, SVR\n",
    "\n",
    "from sklearn.model_selection import KFold, StratifiedKFold, RepeatedStratifiedKFold, cross_val_score\n",
    "\n",
    "import matplotlib.pyplot as plt\n",
    "import cv2\n",
    "\n",
    "from src.utils.feats import load_gei"
   ]
  },
  {
   "cell_type": "code",
   "execution_count": 2,
   "metadata": {},
   "outputs": [],
   "source": [
    "datapath = \"../data/feats/database24_gei_480x640.pkl\"\n",
    "X, y = load_gei(datapath, dim=(64,48), crop_person=True)"
   ]
  },
  {
   "cell_type": "code",
   "execution_count": 3,
   "metadata": {},
   "outputs": [],
   "source": [
    "model = RandomForestClassifier(n_estimators=150, max_depth=None, random_state=0, criterion='gini')\n",
    "cv = KFold(n_splits=3, random_state=42, shuffle=True)\n",
    "# cv = RepeatedStratifiedKFold(n_splits=3, n_repeats=3, random_state=42)"
   ]
  },
  {
   "cell_type": "code",
   "execution_count": 4,
   "metadata": {},
   "outputs": [
    {
     "name": "stdout",
     "output_type": "stream",
     "text": [
      "Mean ACC: 83.91581 +/- 1.77663\n"
     ]
    }
   ],
   "source": [
    "scores = cross_val_score(model, X, y, scoring='accuracy', cv=cv, n_jobs=-1)\n",
    "print(f'Mean ACC: {100*np.mean(scores):.5f} +/- {100*np.std(scores):.5f}' )"
   ]
  },
  {
   "cell_type": "markdown",
   "metadata": {},
   "source": [
    "# Here we going through a tutorial, nothing to do with the paper yet"
   ]
  },
  {
   "cell_type": "markdown",
   "metadata": {},
   "source": [
    "# SMOTE for Balancing Data"
   ]
  },
  {
   "cell_type": "code",
   "execution_count": 5,
   "metadata": {},
   "outputs": [],
   "source": [
    "from collections import Counter\n",
    "\n",
    "from imblearn.over_sampling import SMOTE\n",
    "from imblearn.under_sampling import RandomUnderSampler\n",
    "from imblearn.pipeline import Pipeline"
   ]
  },
  {
   "cell_type": "code",
   "execution_count": 6,
   "metadata": {},
   "outputs": [
    {
     "data": {
      "image/png": "[encoded data removed]",
      "text/plain": [
       "<Figure size 432x288 with 1 Axes>"
      ]
     },
     "metadata": {
      "needs_background": "light"
     },
     "output_type": "display_data"
    }
   ],
   "source": [
    "plt.hist(y, bins=24, rwidth=0.85)\n",
    "plt.show()"
   ]
  },
  {
   "cell_type": "code",
   "execution_count": 7,
   "metadata": {},
   "outputs": [],
   "source": [
    "# transform the dataset\n",
    "oversample = SMOTE(random_state=0)\n",
    "X_balanced, y_balanced = oversample.fit_resample(X, y)"
   ]
  },
  {
   "cell_type": "code",
   "execution_count": 8,
   "metadata": {},
   "outputs": [
    {
     "data": {
      "image/png": "[encoded data removed]",
      "text/plain": [
       "<Figure size 432x288 with 1 Axes>"
      ]
     },
     "metadata": {
      "needs_background": "light"
     },
     "output_type": "display_data"
    }
   ],
   "source": [
    "plt.hist(y_balanced, bins=24, rwidth=0.85)\n",
    "plt.hist(y, bins=24, rwidth=0.85)\n",
    "plt.show()"
   ]
  },
  {
   "cell_type": "markdown",
   "metadata": {},
   "source": [
    "# SMOTE for classification"
   ]
  },
  {
   "cell_type": "code",
   "execution_count": 9,
   "metadata": {},
   "outputs": [],
   "source": [
    "# define pipeline\n",
    "steps = [('over', SMOTE(random_state=0)), ('model', model)]\n",
    "pipeline = Pipeline(steps=steps)"
   ]
  },
  {
   "cell_type": "code",
   "execution_count": 10,
   "metadata": {},
   "outputs": [
    {
     "name": "stdout",
     "output_type": "stream",
     "text": [
      "Mean ACC: 85.92746 +/- 1.77374\n"
     ]
    }
   ],
   "source": [
    "scores = cross_val_score(pipeline, X, y, scoring='accuracy', cv=cv, n_jobs=-1)\n",
    "print(f'Mean ACC: {100*np.mean(scores):.5f} +/- {100*np.std(scores):.5f}' )"
   ]
  },
  {
   "cell_type": "markdown",
   "metadata": {},
   "source": [
    "As mentioned in the paper, it is believed that SMOTE performs better when combined with undersampling of the majority class, such as random undersampling.\n",
    "\n",
    "We can achieve this by simply adding a RandomUnderSampler step to the Pipeline."
   ]
  },
  {
   "cell_type": "code",
   "execution_count": 11,
   "metadata": {},
   "outputs": [],
   "source": [
    "over = SMOTE(random_state=0)\n",
    "under = RandomUnderSampler(random_state=0)\n",
    "steps = [('over', over), ('under', under), ('model', model)]\n",
    "pipeline = Pipeline(steps=steps)"
   ]
  },
  {
   "cell_type": "code",
   "execution_count": 12,
   "metadata": {},
   "outputs": [
    {
     "name": "stdout",
     "output_type": "stream",
     "text": [
      "Mean ACC: 84.82756 +/- 0.47698\n"
     ]
    }
   ],
   "source": [
    "scores = cross_val_score(pipeline, X, y, scoring='accuracy', cv=cv, n_jobs=-1)\n",
    "print(f'Mean ACC: {100*np.mean(scores):.5f} +/- {100*np.std(scores):.5f}' )"
   ]
  },
  {
   "cell_type": "markdown",
   "metadata": {},
   "source": [
    "We could explore testing different ratios of the minority class and majority class (e.g. changing the sampling_strategy argument) to see if a further lift in performance is possible.\n",
    "\n",
    "Another area to explore would be to test different values of the k-nearest neighbors selected in the SMOTE procedure when each new synthetic example is created. The default is k=5, although larger or smaller values will influence the types of examples created, and in turn, may impact the performance of the model.\n",
    "\n",
    "For example, we could grid search a range of values of k, such as values from 1 to 7, and evaluate the pipeline for each value."
   ]
  },
  {
   "cell_type": "code",
   "execution_count": 13,
   "metadata": {},
   "outputs": [
    {
     "name": "stdout",
     "output_type": "stream",
     "text": [
      "> k=1, Mean ACC: 84.46026 +/- 0.69387\n",
      "> k=2, Mean ACC: 82.81891 +/- 1.53087\n",
      "> k=3, Mean ACC: 84.64541 +/- 0.86074\n",
      "> k=4, Mean ACC: 85.56316 +/- 2.25889\n",
      "> k=5, Mean ACC: 84.82756 +/- 0.47698\n",
      "> k=6, Mean ACC: nan +/- nan\n",
      "> k=7, Mean ACC: nan +/- nan\n"
     ]
    }
   ],
   "source": [
    "k_values = [1,2,3,4,5,6,7]\n",
    "for k in k_values:\n",
    "    X, y = load_gei(datapath, dim=(64,48), crop_person=True)\n",
    "    # define pipeline\n",
    "    over = SMOTE(k_neighbors=k, random_state=0)\n",
    "    under = RandomUnderSampler(random_state=0)\n",
    "    steps = [('over', over), ('under', under), ('model', model)]\n",
    "    pipeline = Pipeline(steps=steps)\n",
    " \n",
    "    # evaluate pipeline\n",
    "    scores = cross_val_score(pipeline, X, y, scoring='accuracy', cv=cv, n_jobs=-1)\n",
    "    print(f'> k={k:d}, Mean ACC: {100*np.mean(scores):.5f} +/- {100*np.std(scores):.5f}' )"
   ]
  },
  {
   "cell_type": "markdown",
   "metadata": {},
   "source": [
    "# SMOTE With Selective Synthetic Sample Generation"
   ]
  },
  {
   "cell_type": "markdown",
   "metadata": {},
   "source": [
    "## Borderline-SMOTE\n"
   ]
  },
  {
   "cell_type": "code",
   "execution_count": 14,
   "metadata": {},
   "outputs": [],
   "source": [
    "from imblearn.over_sampling import BorderlineSMOTE"
   ]
  },
  {
   "cell_type": "code",
   "execution_count": 15,
   "metadata": {},
   "outputs": [],
   "source": [
    "# transform the dataset\n",
    "oversample = BorderlineSMOTE(random_state=0)\n",
    "X_over, y_over = oversample.fit_resample(X, y)"
   ]
  },
  {
   "cell_type": "code",
   "execution_count": 16,
   "metadata": {},
   "outputs": [
    {
     "data": {
      "image/png": "[encoded data removed]",
      "text/plain": [
       "<Figure size 432x288 with 1 Axes>"
      ]
     },
     "metadata": {
      "needs_background": "light"
     },
     "output_type": "display_data"
    }
   ],
   "source": [
    "plt.hist(y_over, bins=24, alpha=0.4,rwidth=0.85, label=\"oversampled\")\n",
    "plt.hist(y, bins=24, alpha=1, rwidth=0.85, label=\"original\")\n",
    "plt.xlabel(\"class\")\n",
    "plt.ylabel(\"occurence\")\n",
    "plt.legend(loc='best')\n",
    "plt.show()"
   ]
  },
  {
   "cell_type": "code",
   "execution_count": 17,
   "metadata": {},
   "outputs": [
    {
     "name": "stdout",
     "output_type": "stream",
     "text": [
      "Mean ACC: 83.91781 +/- 2.42679\n"
     ]
    }
   ],
   "source": [
    "steps = [('over', BorderlineSMOTE(random_state=0)), ('model', model)]\n",
    "pipeline = Pipeline(steps=steps)\n",
    "\n",
    "scores = cross_val_score(pipeline, X, y, scoring='accuracy', cv=cv, n_jobs=-1)\n",
    "print(f'Mean ACC: {100*np.mean(scores):.5f} +/- {100*np.std(scores):.5f}' )"
   ]
  },
  {
   "cell_type": "markdown",
   "metadata": {},
   "source": [
    "## Borderline-SMOTE SVM"
   ]
  },
  {
   "cell_type": "code",
   "execution_count": 18,
   "metadata": {},
   "outputs": [],
   "source": [
    "from imblearn.over_sampling import SVMSMOTE"
   ]
  },
  {
   "cell_type": "code",
   "execution_count": 19,
   "metadata": {},
   "outputs": [],
   "source": [
    "oversample = SVMSMOTE(random_state=0)\n",
    "X_over, y_over = oversample.fit_resample(X, y)"
   ]
  },
  {
   "cell_type": "code",
   "execution_count": 20,
   "metadata": {},
   "outputs": [
    {
     "data": {
      "image/png": "[encoded data removed]",
      "text/plain": [
       "<Figure size 432x288 with 1 Axes>"
      ]
     },
     "metadata": {
      "needs_background": "light"
     },
     "output_type": "display_data"
    }
   ],
   "source": [
    "plt.hist(y_over, bins=24, alpha=0.4,rwidth=0.85, label=\"oversampled\")\n",
    "plt.hist(y, bins=24, alpha=1, rwidth=0.85, label=\"original\")\n",
    "plt.xlabel(\"class\")\n",
    "plt.ylabel(\"occurence\")\n",
    "plt.legend(loc='best')\n",
    "plt.show()"
   ]
  },
  {
   "cell_type": "code",
   "execution_count": 21,
   "metadata": {},
   "outputs": [
    {
     "name": "stdout",
     "output_type": "stream",
     "text": [
      "Mean ACC: 83.73066 +/- 1.01483\n"
     ]
    }
   ],
   "source": [
    "steps = [('over', SVMSMOTE(random_state=0)), ('model', model)]\n",
    "pipeline = Pipeline(steps=steps)\n",
    "\n",
    "scores = cross_val_score(pipeline, X, y, scoring='accuracy', cv=cv, n_jobs=-1)\n",
    "print(f'Mean ACC: {100*np.mean(scores):.5f} +/- {100*np.std(scores):.5f}' )"
   ]
  },
  {
   "cell_type": "markdown",
   "metadata": {},
   "source": [
    "# Now, lets use smote in optimization pipeline"
   ]
  },
  {
   "cell_type": "code",
   "execution_count": 22,
   "metadata": {},
   "outputs": [],
   "source": [
    "from skopt import BayesSearchCV\n",
    "from skopt.space import Real, Categorical, Integer\n",
    "from skopt.plots import plot_objective, plot_histogram\n",
    "\n",
    "\n",
    "from sklearn.ensemble import AdaBoostClassifier, BaggingClassifier, GradientBoostingClassifier\n",
    "from sklearn.ensemble import RandomForestClassifier, IsolationForest\n",
    "\n",
    "from sklearn.neighbors import KNeighborsClassifier\n",
    "from sklearn.svm import LinearSVC, SVC\n",
    "\n",
    "from src.utils.results import df_results\n"
   ]
  },
  {
   "cell_type": "code",
   "execution_count": 23,
   "metadata": {},
   "outputs": [],
   "source": [
    "dim = (64, 48)\n",
    "crop_person = True\n",
    "\n",
    "X, y = load_gei(datapath, dim=dim, crop_person=crop_person) "
   ]
  },
  {
   "cell_type": "code",
   "execution_count": 24,
   "metadata": {},
   "outputs": [],
   "source": [
    "# pipeline class is used as estimator to enable\n",
    "# search over different model types\n",
    "\n",
    "base_pipe = Pipeline([   \n",
    "    ('over', SMOTE()),\n",
    "    ('model', SVC())\n",
    "])"
   ]
  },
  {
   "cell_type": "code",
   "execution_count": 25,
   "metadata": {},
   "outputs": [],
   "source": [
    "# ada_search = {\n",
    "#     'over': Categorical([SMOTE(random_state=0), BorderlineSMOTE(random_state=0), SVMSMOTE(random_state=0)]),    \n",
    "#     'model': Categorical([AdaBoostClassifier(random_state=0)]),    \n",
    "#     'model__n_estimators': Integer(1, 400),     \n",
    "#     'model__learning_rate': Real(1e-6, 1e+0, prior='log-uniform'),\n",
    "# }\n",
    "\n",
    "# gdb_search = {\n",
    "#     'over': Categorical([SMOTE(random_state=0), BorderlineSMOTE(random_state=0), SVMSMOTE(random_state=0)]),    \n",
    "#     'model': Categorical([GradientBoostingClassifier(max_depth=None, random_state=0)]),    \n",
    "#     'model__learning_rate': Real(1e-3, 0.5, prior='uniform'),\n",
    "#     'model__n_estimators': Integer(1, 400),         \n",
    "#     'model__max_depth': Integer(1, 400),     \n",
    "# }\n",
    "\n",
    "\n",
    "knn_search = {\n",
    "    'over': Categorical([SMOTE(random_state=0), BorderlineSMOTE(random_state=0), SVMSMOTE(random_state=0)]),       \n",
    "    'model': Categorical([KNeighborsClassifier()]),    \n",
    "    'model__n_neighbors': Integer(1,6),    \n",
    "}\n",
    "\n",
    "rf_search = {\n",
    "    'over': Categorical([SMOTE(random_state=0), BorderlineSMOTE(random_state=0), SVMSMOTE(random_state=0)]),       \n",
    "    'model': Categorical([RandomForestClassifier(max_depth=None, random_state=0, criterion='gini')]),    \n",
    "    'model__n_estimators': Integer(100, 400),    \n",
    "}\n",
    "\n",
    "svc_search = {\n",
    "    'over': Categorical([SMOTE(random_state=0), BorderlineSMOTE(random_state=0), SVMSMOTE(random_state=0)]),          \n",
    "    'model': Categorical([SVC()]),\n",
    "    'model__C': Real(1e-6, 1e+6, prior='log-uniform'),\n",
    "    'model__gamma': Real(1e-6, 1e+1, prior='log-uniform'),\n",
    "    'model__degree': Integer(1,8),\n",
    "    'model__kernel': Categorical(['linear', 'poly', 'rbf']),\n",
    "}\n"
   ]
  },
  {
   "cell_type": "code",
   "execution_count": 26,
   "metadata": {},
   "outputs": [
    {
     "name": "stderr",
     "output_type": "stream",
     "text": [
      "/home/wesley.passos/miniconda3/envs/libras/lib/python3.8/site-packages/skopt/optimizer/optimizer.py:449: UserWarning: The objective has been evaluated at this point before.\n",
      "  warnings.warn(\"The objective has been evaluated \"\n",
      "/home/wesley.passos/miniconda3/envs/libras/lib/python3.8/site-packages/skopt/optimizer/optimizer.py:449: UserWarning: The objective has been evaluated at this point before.\n",
      "  warnings.warn(\"The objective has been evaluated \"\n",
      "/home/wesley.passos/miniconda3/envs/libras/lib/python3.8/site-packages/skopt/optimizer/optimizer.py:449: UserWarning: The objective has been evaluated at this point before.\n",
      "  warnings.warn(\"The objective has been evaluated \"\n",
      "/home/wesley.passos/miniconda3/envs/libras/lib/python3.8/site-packages/skopt/optimizer/optimizer.py:449: UserWarning: The objective has been evaluated at this point before.\n",
      "  warnings.warn(\"The objective has been evaluated \"\n",
      "/home/wesley.passos/miniconda3/envs/libras/lib/python3.8/site-packages/skopt/optimizer/optimizer.py:449: UserWarning: The objective has been evaluated at this point before.\n",
      "  warnings.warn(\"The objective has been evaluated \"\n",
      "/home/wesley.passos/miniconda3/envs/libras/lib/python3.8/site-packages/skopt/optimizer/optimizer.py:449: UserWarning: The objective has been evaluated at this point before.\n",
      "  warnings.warn(\"The objective has been evaluated \"\n",
      "/home/wesley.passos/miniconda3/envs/libras/lib/python3.8/site-packages/skopt/optimizer/optimizer.py:449: UserWarning: The objective has been evaluated at this point before.\n",
      "  warnings.warn(\"The objective has been evaluated \"\n",
      "/home/wesley.passos/miniconda3/envs/libras/lib/python3.8/site-packages/skopt/optimizer/optimizer.py:449: UserWarning: The objective has been evaluated at this point before.\n",
      "  warnings.warn(\"The objective has been evaluated \"\n",
      "/home/wesley.passos/miniconda3/envs/libras/lib/python3.8/site-packages/skopt/optimizer/optimizer.py:449: UserWarning: The objective has been evaluated at this point before.\n",
      "  warnings.warn(\"The objective has been evaluated \"\n",
      "/home/wesley.passos/miniconda3/envs/libras/lib/python3.8/site-packages/skopt/optimizer/optimizer.py:449: UserWarning: The objective has been evaluated at this point before.\n",
      "  warnings.warn(\"The objective has been evaluated \"\n",
      "/home/wesley.passos/miniconda3/envs/libras/lib/python3.8/site-packages/skopt/optimizer/optimizer.py:449: UserWarning: The objective has been evaluated at this point before.\n",
      "  warnings.warn(\"The objective has been evaluated \"\n",
      "/home/wesley.passos/miniconda3/envs/libras/lib/python3.8/site-packages/skopt/optimizer/optimizer.py:449: UserWarning: The objective has been evaluated at this point before.\n",
      "  warnings.warn(\"The objective has been evaluated \"\n",
      "/home/wesley.passos/miniconda3/envs/libras/lib/python3.8/site-packages/skopt/optimizer/optimizer.py:449: UserWarning: The objective has been evaluated at this point before.\n",
      "  warnings.warn(\"The objective has been evaluated \"\n",
      "/home/wesley.passos/miniconda3/envs/libras/lib/python3.8/site-packages/skopt/optimizer/optimizer.py:449: UserWarning: The objective has been evaluated at this point before.\n",
      "  warnings.warn(\"The objective has been evaluated \"\n",
      "/home/wesley.passos/miniconda3/envs/libras/lib/python3.8/site-packages/skopt/optimizer/optimizer.py:449: UserWarning: The objective has been evaluated at this point before.\n",
      "  warnings.warn(\"The objective has been evaluated \"\n",
      "/home/wesley.passos/miniconda3/envs/libras/lib/python3.8/site-packages/skopt/optimizer/optimizer.py:449: UserWarning: The objective has been evaluated at this point before.\n",
      "  warnings.warn(\"The objective has been evaluated \"\n",
      "/home/wesley.passos/miniconda3/envs/libras/lib/python3.8/site-packages/skopt/optimizer/optimizer.py:449: UserWarning: The objective has been evaluated at this point before.\n",
      "  warnings.warn(\"The objective has been evaluated \"\n",
      "/home/wesley.passos/miniconda3/envs/libras/lib/python3.8/site-packages/skopt/optimizer/optimizer.py:449: UserWarning: The objective has been evaluated at this point before.\n",
      "  warnings.warn(\"The objective has been evaluated \"\n",
      "/home/wesley.passos/miniconda3/envs/libras/lib/python3.8/site-packages/skopt/optimizer/optimizer.py:449: UserWarning: The objective has been evaluated at this point before.\n",
      "  warnings.warn(\"The objective has been evaluated \"\n",
      "/home/wesley.passos/miniconda3/envs/libras/lib/python3.8/site-packages/skopt/optimizer/optimizer.py:449: UserWarning: The objective has been evaluated at this point before.\n",
      "  warnings.warn(\"The objective has been evaluated \"\n",
      "/home/wesley.passos/miniconda3/envs/libras/lib/python3.8/site-packages/skopt/optimizer/optimizer.py:449: UserWarning: The objective has been evaluated at this point before.\n",
      "  warnings.warn(\"The objective has been evaluated \"\n",
      "/home/wesley.passos/miniconda3/envs/libras/lib/python3.8/site-packages/skopt/optimizer/optimizer.py:449: UserWarning: The objective has been evaluated at this point before.\n",
      "  warnings.warn(\"The objective has been evaluated \"\n",
      "/home/wesley.passos/miniconda3/envs/libras/lib/python3.8/site-packages/skopt/optimizer/optimizer.py:449: UserWarning: The objective has been evaluated at this point before.\n",
      "  warnings.warn(\"The objective has been evaluated \"\n",
      "/home/wesley.passos/miniconda3/envs/libras/lib/python3.8/site-packages/skopt/optimizer/optimizer.py:449: UserWarning: The objective has been evaluated at this point before.\n",
      "  warnings.warn(\"The objective has been evaluated \"\n",
      "/home/wesley.passos/miniconda3/envs/libras/lib/python3.8/site-packages/skopt/optimizer/optimizer.py:449: UserWarning: The objective has been evaluated at this point before.\n",
      "  warnings.warn(\"The objective has been evaluated \"\n",
      "/home/wesley.passos/miniconda3/envs/libras/lib/python3.8/site-packages/skopt/optimizer/optimizer.py:449: UserWarning: The objective has been evaluated at this point before.\n",
      "  warnings.warn(\"The objective has been evaluated \"\n",
      "/home/wesley.passos/miniconda3/envs/libras/lib/python3.8/site-packages/skopt/optimizer/optimizer.py:449: UserWarning: The objective has been evaluated at this point before.\n",
      "  warnings.warn(\"The objective has been evaluated \"\n",
      "/home/wesley.passos/miniconda3/envs/libras/lib/python3.8/site-packages/skopt/optimizer/optimizer.py:449: UserWarning: The objective has been evaluated at this point before.\n",
      "  warnings.warn(\"The objective has been evaluated \"\n",
      "/home/wesley.passos/miniconda3/envs/libras/lib/python3.8/site-packages/skopt/optimizer/optimizer.py:449: UserWarning: The objective has been evaluated at this point before.\n",
      "  warnings.warn(\"The objective has been evaluated \"\n",
      "/home/wesley.passos/miniconda3/envs/libras/lib/python3.8/site-packages/skopt/optimizer/optimizer.py:449: UserWarning: The objective has been evaluated at this point before.\n",
      "  warnings.warn(\"The objective has been evaluated \"\n"
     ]
    },
    {
     "data": {
      "text/plain": [
       "BayesSearchCV(cv=KFold(n_splits=3, random_state=42, shuffle=True),\n",
       "              estimator=Pipeline(steps=[('over', SMOTE()), ('model', SVC())]),\n",
       "              scoring='accuracy',\n",
       "              search_spaces=[({'model': Categorical(categories=(KNeighborsClassifier(),), prior=None),\n",
       "                               'model__n_neighbors': Integer(low=1, high=6, prior='uniform', transform='identity'),\n",
       "                               'over': Categorical(categories=(SMOTE(ran...\n",
       "                               'over': Categorical(categories=(SMOTE(random_state=0), BorderlineSMOTE(random_state=0), SVMSMOTE(random_state=0)), prior=None)},\n",
       "                              128),\n",
       "                             ({'model': Categorical(categories=(RandomForestClassifier(random_state=0),), prior=None),\n",
       "                               'model__n_estimators': Integer(low=100, high=400, prior='uniform', transform='identity'),\n",
       "                               'over': Categorical(categories=(SMOTE(random_state=0), BorderlineSMOTE(random_state=0), SVMSMOTE(random_state=0)), prior=None)},\n",
       "                              128)])"
      ]
     },
     "execution_count": 26,
     "metadata": {},
     "output_type": "execute_result"
    }
   ],
   "source": [
    "opt = BayesSearchCV(\n",
    "    base_pipe,\n",
    "    # (parameter space, # of evaluations)    \n",
    "    [(knn_search, 32), (svc_search, 128), (rf_search, 128)],\n",
    "    cv=cv,\n",
    "    scoring='accuracy'\n",
    ")\n",
    "\n",
    "opt.fit(X, y)"
   ]
  },
  {
   "cell_type": "code",
   "execution_count": 32,
   "metadata": {
    "scrolled": false
   },
   "outputs": [
    {
     "data": {
      "text/html": [
       "<div>\n",
       "<style scoped>\n",
       "    .dataframe tbody tr th:only-of-type {\n",
       "        vertical-align: middle;\n",
       "    }\n",
       "\n",
       "    .dataframe tbody tr th {\n",
       "        vertical-align: top;\n",
       "    }\n",
       "\n",
       "    .dataframe thead th {\n",
       "        text-align: right;\n",
       "    }\n",
       "</style>\n",
       "<table border=\"1\" class=\"dataframe\">\n",
       "  <thead>\n",
       "    <tr style=\"text-align: right;\">\n",
       "      <th></th>\n",
       "      <th>model</th>\n",
       "      <th>model__n_neighbors</th>\n",
       "      <th>over</th>\n",
       "      <th>model__C</th>\n",
       "      <th>model__degree</th>\n",
       "      <th>model__gamma</th>\n",
       "      <th>model__kernel</th>\n",
       "      <th>model__n_estimators</th>\n",
       "      <th>mean_test_score</th>\n",
       "      <th>std_test_score</th>\n",
       "      <th>rank</th>\n",
       "    </tr>\n",
       "  </thead>\n",
       "  <tbody>\n",
       "    <tr>\n",
       "      <th>149</th>\n",
       "      <td>SVC(C=1000000.0, degree=6, gamma=0.00013027014...</td>\n",
       "      <td>NaN</td>\n",
       "      <td>SVMSMOTE(random_state=0)</td>\n",
       "      <td>292826.213596</td>\n",
       "      <td>1.0</td>\n",
       "      <td>0.000001</td>\n",
       "      <td>rbf</td>\n",
       "      <td>NaN</td>\n",
       "      <td>0.864717</td>\n",
       "      <td>0.002932</td>\n",
       "      <td>1</td>\n",
       "    </tr>\n",
       "    <tr>\n",
       "      <th>152</th>\n",
       "      <td>SVC(C=1000000.0, degree=6, gamma=0.00013027014...</td>\n",
       "      <td>NaN</td>\n",
       "      <td>SVMSMOTE(random_state=0)</td>\n",
       "      <td>981436.697647</td>\n",
       "      <td>5.0</td>\n",
       "      <td>0.000026</td>\n",
       "      <td>rbf</td>\n",
       "      <td>NaN</td>\n",
       "      <td>0.864717</td>\n",
       "      <td>0.002932</td>\n",
       "      <td>1</td>\n",
       "    </tr>\n",
       "    <tr>\n",
       "      <th>159</th>\n",
       "      <td>SVC(C=1000000.0, degree=6, gamma=0.00013027014...</td>\n",
       "      <td>NaN</td>\n",
       "      <td>SVMSMOTE(random_state=0)</td>\n",
       "      <td>54473.567787</td>\n",
       "      <td>1.0</td>\n",
       "      <td>0.000001</td>\n",
       "      <td>rbf</td>\n",
       "      <td>NaN</td>\n",
       "      <td>0.864717</td>\n",
       "      <td>0.002932</td>\n",
       "      <td>1</td>\n",
       "    </tr>\n",
       "    <tr>\n",
       "      <th>156</th>\n",
       "      <td>SVC(C=1000000.0, degree=6, gamma=0.00013027014...</td>\n",
       "      <td>NaN</td>\n",
       "      <td>SVMSMOTE(random_state=0)</td>\n",
       "      <td>1000000.000000</td>\n",
       "      <td>1.0</td>\n",
       "      <td>0.000021</td>\n",
       "      <td>rbf</td>\n",
       "      <td>NaN</td>\n",
       "      <td>0.864717</td>\n",
       "      <td>0.002932</td>\n",
       "      <td>1</td>\n",
       "    </tr>\n",
       "    <tr>\n",
       "      <th>73</th>\n",
       "      <td>SVC(C=1000000.0, degree=6, gamma=0.00013027014...</td>\n",
       "      <td>NaN</td>\n",
       "      <td>SVMSMOTE(random_state=0)</td>\n",
       "      <td>1000000.000000</td>\n",
       "      <td>6.0</td>\n",
       "      <td>0.000130</td>\n",
       "      <td>rbf</td>\n",
       "      <td>NaN</td>\n",
       "      <td>0.864717</td>\n",
       "      <td>0.007166</td>\n",
       "      <td>1</td>\n",
       "    </tr>\n",
       "    <tr>\n",
       "      <th>74</th>\n",
       "      <td>SVC(C=1000000.0, degree=6, gamma=0.00013027014...</td>\n",
       "      <td>NaN</td>\n",
       "      <td>SVMSMOTE(random_state=0)</td>\n",
       "      <td>1000000.000000</td>\n",
       "      <td>2.0</td>\n",
       "      <td>0.000146</td>\n",
       "      <td>rbf</td>\n",
       "      <td>NaN</td>\n",
       "      <td>0.864717</td>\n",
       "      <td>0.007166</td>\n",
       "      <td>1</td>\n",
       "    </tr>\n",
       "    <tr>\n",
       "      <th>86</th>\n",
       "      <td>SVC(C=1000000.0, degree=6, gamma=0.00013027014...</td>\n",
       "      <td>NaN</td>\n",
       "      <td>SMOTE(random_state=0)</td>\n",
       "      <td>0.285511</td>\n",
       "      <td>2.0</td>\n",
       "      <td>10.000000</td>\n",
       "      <td>linear</td>\n",
       "      <td>NaN</td>\n",
       "      <td>0.862888</td>\n",
       "      <td>0.004786</td>\n",
       "      <td>7</td>\n",
       "    </tr>\n",
       "    <tr>\n",
       "      <th>87</th>\n",
       "      <td>SVC(C=1000000.0, degree=6, gamma=0.00013027014...</td>\n",
       "      <td>NaN</td>\n",
       "      <td>SMOTE(random_state=0)</td>\n",
       "      <td>0.283976</td>\n",
       "      <td>2.0</td>\n",
       "      <td>10.000000</td>\n",
       "      <td>linear</td>\n",
       "      <td>NaN</td>\n",
       "      <td>0.862888</td>\n",
       "      <td>0.004786</td>\n",
       "      <td>7</td>\n",
       "    </tr>\n",
       "    <tr>\n",
       "      <th>88</th>\n",
       "      <td>SVC(C=1000000.0, degree=6, gamma=0.00013027014...</td>\n",
       "      <td>NaN</td>\n",
       "      <td>SMOTE(random_state=0)</td>\n",
       "      <td>0.282552</td>\n",
       "      <td>2.0</td>\n",
       "      <td>10.000000</td>\n",
       "      <td>linear</td>\n",
       "      <td>NaN</td>\n",
       "      <td>0.862888</td>\n",
       "      <td>0.004786</td>\n",
       "      <td>7</td>\n",
       "    </tr>\n",
       "    <tr>\n",
       "      <th>89</th>\n",
       "      <td>SVC(C=1000000.0, degree=6, gamma=0.00013027014...</td>\n",
       "      <td>NaN</td>\n",
       "      <td>SMOTE(random_state=0)</td>\n",
       "      <td>0.281154</td>\n",
       "      <td>2.0</td>\n",
       "      <td>10.000000</td>\n",
       "      <td>linear</td>\n",
       "      <td>NaN</td>\n",
       "      <td>0.862888</td>\n",
       "      <td>0.004786</td>\n",
       "      <td>7</td>\n",
       "    </tr>\n",
       "    <tr>\n",
       "      <th>144</th>\n",
       "      <td>SVC(C=1000000.0, degree=6, gamma=0.00013027014...</td>\n",
       "      <td>NaN</td>\n",
       "      <td>SVMSMOTE(random_state=0)</td>\n",
       "      <td>0.634524</td>\n",
       "      <td>5.0</td>\n",
       "      <td>10.000000</td>\n",
       "      <td>linear</td>\n",
       "      <td>NaN</td>\n",
       "      <td>0.862888</td>\n",
       "      <td>0.004786</td>\n",
       "      <td>7</td>\n",
       "    </tr>\n",
       "    <tr>\n",
       "      <th>84</th>\n",
       "      <td>SVC(C=1000000.0, degree=6, gamma=0.00013027014...</td>\n",
       "      <td>NaN</td>\n",
       "      <td>SMOTE(random_state=0)</td>\n",
       "      <td>0.288547</td>\n",
       "      <td>2.0</td>\n",
       "      <td>10.000000</td>\n",
       "      <td>linear</td>\n",
       "      <td>NaN</td>\n",
       "      <td>0.862888</td>\n",
       "      <td>0.004786</td>\n",
       "      <td>7</td>\n",
       "    </tr>\n",
       "    <tr>\n",
       "      <th>90</th>\n",
       "      <td>SVC(C=1000000.0, degree=6, gamma=0.00013027014...</td>\n",
       "      <td>NaN</td>\n",
       "      <td>SMOTE(random_state=0)</td>\n",
       "      <td>0.279788</td>\n",
       "      <td>2.0</td>\n",
       "      <td>10.000000</td>\n",
       "      <td>linear</td>\n",
       "      <td>NaN</td>\n",
       "      <td>0.862888</td>\n",
       "      <td>0.004786</td>\n",
       "      <td>7</td>\n",
       "    </tr>\n",
       "    <tr>\n",
       "      <th>91</th>\n",
       "      <td>SVC(C=1000000.0, degree=6, gamma=0.00013027014...</td>\n",
       "      <td>NaN</td>\n",
       "      <td>SMOTE(random_state=0)</td>\n",
       "      <td>0.278437</td>\n",
       "      <td>2.0</td>\n",
       "      <td>10.000000</td>\n",
       "      <td>linear</td>\n",
       "      <td>NaN</td>\n",
       "      <td>0.862888</td>\n",
       "      <td>0.004786</td>\n",
       "      <td>7</td>\n",
       "    </tr>\n",
       "    <tr>\n",
       "      <th>92</th>\n",
       "      <td>SVC(C=1000000.0, degree=6, gamma=0.00013027014...</td>\n",
       "      <td>NaN</td>\n",
       "      <td>SMOTE(random_state=0)</td>\n",
       "      <td>0.277180</td>\n",
       "      <td>2.0</td>\n",
       "      <td>10.000000</td>\n",
       "      <td>linear</td>\n",
       "      <td>NaN</td>\n",
       "      <td>0.862888</td>\n",
       "      <td>0.004786</td>\n",
       "      <td>7</td>\n",
       "    </tr>\n",
       "    <tr>\n",
       "      <th>93</th>\n",
       "      <td>SVC(C=1000000.0, degree=6, gamma=0.00013027014...</td>\n",
       "      <td>NaN</td>\n",
       "      <td>SMOTE(random_state=0)</td>\n",
       "      <td>0.276022</td>\n",
       "      <td>2.0</td>\n",
       "      <td>10.000000</td>\n",
       "      <td>linear</td>\n",
       "      <td>NaN</td>\n",
       "      <td>0.862888</td>\n",
       "      <td>0.004786</td>\n",
       "      <td>7</td>\n",
       "    </tr>\n",
       "    <tr>\n",
       "      <th>94</th>\n",
       "      <td>SVC(C=1000000.0, degree=6, gamma=0.00013027014...</td>\n",
       "      <td>NaN</td>\n",
       "      <td>SMOTE(random_state=0)</td>\n",
       "      <td>0.274808</td>\n",
       "      <td>2.0</td>\n",
       "      <td>10.000000</td>\n",
       "      <td>linear</td>\n",
       "      <td>NaN</td>\n",
       "      <td>0.862888</td>\n",
       "      <td>0.004786</td>\n",
       "      <td>7</td>\n",
       "    </tr>\n",
       "    <tr>\n",
       "      <th>85</th>\n",
       "      <td>SVC(C=1000000.0, degree=6, gamma=0.00013027014...</td>\n",
       "      <td>NaN</td>\n",
       "      <td>SMOTE(random_state=0)</td>\n",
       "      <td>0.286999</td>\n",
       "      <td>2.0</td>\n",
       "      <td>10.000000</td>\n",
       "      <td>linear</td>\n",
       "      <td>NaN</td>\n",
       "      <td>0.862888</td>\n",
       "      <td>0.004786</td>\n",
       "      <td>7</td>\n",
       "    </tr>\n",
       "    <tr>\n",
       "      <th>83</th>\n",
       "      <td>SVC(C=1000000.0, degree=6, gamma=0.00013027014...</td>\n",
       "      <td>NaN</td>\n",
       "      <td>SMOTE(random_state=0)</td>\n",
       "      <td>0.290658</td>\n",
       "      <td>2.0</td>\n",
       "      <td>10.000000</td>\n",
       "      <td>linear</td>\n",
       "      <td>NaN</td>\n",
       "      <td>0.862888</td>\n",
       "      <td>0.004786</td>\n",
       "      <td>7</td>\n",
       "    </tr>\n",
       "    <tr>\n",
       "      <th>96</th>\n",
       "      <td>SVC(C=1000000.0, degree=6, gamma=0.00013027014...</td>\n",
       "      <td>NaN</td>\n",
       "      <td>SMOTE(random_state=0)</td>\n",
       "      <td>0.316038</td>\n",
       "      <td>2.0</td>\n",
       "      <td>10.000000</td>\n",
       "      <td>linear</td>\n",
       "      <td>NaN</td>\n",
       "      <td>0.862888</td>\n",
       "      <td>0.004786</td>\n",
       "      <td>7</td>\n",
       "    </tr>\n",
       "  </tbody>\n",
       "</table>\n",
       "</div>"
      ],
      "text/plain": [
       "                                                 model  model__n_neighbors  \\\n",
       "149  SVC(C=1000000.0, degree=6, gamma=0.00013027014...                 NaN   \n",
       "152  SVC(C=1000000.0, degree=6, gamma=0.00013027014...                 NaN   \n",
       "159  SVC(C=1000000.0, degree=6, gamma=0.00013027014...                 NaN   \n",
       "156  SVC(C=1000000.0, degree=6, gamma=0.00013027014...                 NaN   \n",
       "73   SVC(C=1000000.0, degree=6, gamma=0.00013027014...                 NaN   \n",
       "74   SVC(C=1000000.0, degree=6, gamma=0.00013027014...                 NaN   \n",
       "86   SVC(C=1000000.0, degree=6, gamma=0.00013027014...                 NaN   \n",
       "87   SVC(C=1000000.0, degree=6, gamma=0.00013027014...                 NaN   \n",
       "88   SVC(C=1000000.0, degree=6, gamma=0.00013027014...                 NaN   \n",
       "89   SVC(C=1000000.0, degree=6, gamma=0.00013027014...                 NaN   \n",
       "144  SVC(C=1000000.0, degree=6, gamma=0.00013027014...                 NaN   \n",
       "84   SVC(C=1000000.0, degree=6, gamma=0.00013027014...                 NaN   \n",
       "90   SVC(C=1000000.0, degree=6, gamma=0.00013027014...                 NaN   \n",
       "91   SVC(C=1000000.0, degree=6, gamma=0.00013027014...                 NaN   \n",
       "92   SVC(C=1000000.0, degree=6, gamma=0.00013027014...                 NaN   \n",
       "93   SVC(C=1000000.0, degree=6, gamma=0.00013027014...                 NaN   \n",
       "94   SVC(C=1000000.0, degree=6, gamma=0.00013027014...                 NaN   \n",
       "85   SVC(C=1000000.0, degree=6, gamma=0.00013027014...                 NaN   \n",
       "83   SVC(C=1000000.0, degree=6, gamma=0.00013027014...                 NaN   \n",
       "96   SVC(C=1000000.0, degree=6, gamma=0.00013027014...                 NaN   \n",
       "\n",
       "                         over        model__C  model__degree  model__gamma  \\\n",
       "149  SVMSMOTE(random_state=0)   292826.213596            1.0      0.000001   \n",
       "152  SVMSMOTE(random_state=0)   981436.697647            5.0      0.000026   \n",
       "159  SVMSMOTE(random_state=0)    54473.567787            1.0      0.000001   \n",
       "156  SVMSMOTE(random_state=0)  1000000.000000            1.0      0.000021   \n",
       "73   SVMSMOTE(random_state=0)  1000000.000000            6.0      0.000130   \n",
       "74   SVMSMOTE(random_state=0)  1000000.000000            2.0      0.000146   \n",
       "86      SMOTE(random_state=0)        0.285511            2.0     10.000000   \n",
       "87      SMOTE(random_state=0)        0.283976            2.0     10.000000   \n",
       "88      SMOTE(random_state=0)        0.282552            2.0     10.000000   \n",
       "89      SMOTE(random_state=0)        0.281154            2.0     10.000000   \n",
       "144  SVMSMOTE(random_state=0)        0.634524            5.0     10.000000   \n",
       "84      SMOTE(random_state=0)        0.288547            2.0     10.000000   \n",
       "90      SMOTE(random_state=0)        0.279788            2.0     10.000000   \n",
       "91      SMOTE(random_state=0)        0.278437            2.0     10.000000   \n",
       "92      SMOTE(random_state=0)        0.277180            2.0     10.000000   \n",
       "93      SMOTE(random_state=0)        0.276022            2.0     10.000000   \n",
       "94      SMOTE(random_state=0)        0.274808            2.0     10.000000   \n",
       "85      SMOTE(random_state=0)        0.286999            2.0     10.000000   \n",
       "83      SMOTE(random_state=0)        0.290658            2.0     10.000000   \n",
       "96      SMOTE(random_state=0)        0.316038            2.0     10.000000   \n",
       "\n",
       "    model__kernel  model__n_estimators  mean_test_score  std_test_score  rank  \n",
       "149           rbf                  NaN         0.864717        0.002932     1  \n",
       "152           rbf                  NaN         0.864717        0.002932     1  \n",
       "159           rbf                  NaN         0.864717        0.002932     1  \n",
       "156           rbf                  NaN         0.864717        0.002932     1  \n",
       "73            rbf                  NaN         0.864717        0.007166     1  \n",
       "74            rbf                  NaN         0.864717        0.007166     1  \n",
       "86         linear                  NaN         0.862888        0.004786     7  \n",
       "87         linear                  NaN         0.862888        0.004786     7  \n",
       "88         linear                  NaN         0.862888        0.004786     7  \n",
       "89         linear                  NaN         0.862888        0.004786     7  \n",
       "144        linear                  NaN         0.862888        0.004786     7  \n",
       "84         linear                  NaN         0.862888        0.004786     7  \n",
       "90         linear                  NaN         0.862888        0.004786     7  \n",
       "91         linear                  NaN         0.862888        0.004786     7  \n",
       "92         linear                  NaN         0.862888        0.004786     7  \n",
       "93         linear                  NaN         0.862888        0.004786     7  \n",
       "94         linear                  NaN         0.862888        0.004786     7  \n",
       "85         linear                  NaN         0.862888        0.004786     7  \n",
       "83         linear                  NaN         0.862888        0.004786     7  \n",
       "96         linear                  NaN         0.862888        0.004786     7  "
      ]
     },
     "execution_count": 32,
     "metadata": {},
     "output_type": "execute_result"
    }
   ],
   "source": [
    "df = df_results(opt)\n",
    "df.to_csv(\"results_SMOTE.csv\")\n",
    "df[:20]"
   ]
  },
  {
   "cell_type": "code",
   "execution_count": null,
   "metadata": {},
   "outputs": [],
   "source": []
  }
 ],
 "metadata": {
  "kernelspec": {
   "display_name": "Python 3",
   "language": "python",
   "name": "python3"
  },
  "language_info": {
   "codemirror_mode": {
    "name": "ipython",
    "version": 3
   },
   "file_extension": ".py",
   "mimetype": "text/x-python",
   "name": "python",
   "nbconvert_exporter": "python",
   "pygments_lexer": "ipython3",
   "version": "3.8.5"
  }
 },
 "nbformat": 4,
 "nbformat_minor": 5
}
