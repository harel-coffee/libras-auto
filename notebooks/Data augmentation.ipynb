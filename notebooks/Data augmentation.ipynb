{
 "cells": [
  {
   "cell_type": "code",
   "execution_count": null,
   "id": "administrative-hepatitis",
   "metadata": {},
   "outputs": [],
   "source": [
    "import albumentations as A\n",
    "import imgaug.augmenters as iaa\n",
    "\n",
    "\n",
    "import cv2\n",
    "import pickle\n",
    "import matplotlib.pyplot as plt\n",
    "import numpy as np\n",
    "\n",
    "from src.utils.feats import load_gei"
   ]
  },
  {
   "cell_type": "code",
   "execution_count": null,
   "id": "confidential-struggle",
   "metadata": {},
   "outputs": [],
   "source": [
    "datapath = \"../data/feats/database24_gei_480x640.pkl\"\n",
    "X,y = load_gei(datapath, dim=(560,480), crop_person=True, flatten=False)"
   ]
  },
  {
   "cell_type": "code",
   "execution_count": null,
   "id": "talented-status",
   "metadata": {},
   "outputs": [],
   "source": [
    "image = X[0]\n",
    "\n",
    "plt.imshow(image, cmap='gray')\n",
    "plt.show()"
   ]
  },
  {
   "cell_type": "code",
   "execution_count": null,
   "id": "confidential-foster",
   "metadata": {},
   "outputs": [],
   "source": [
    "transform = iaa.Sequential([\n",
    "#     iaa.GaussianBlur(sigma=(3.0, 3.0)), \n",
    "#     iaa.arithmetic.Dropout(p=0.1)    \n",
    "    iaa.arithmetic.AdditiveGaussianNoise(1e-15)\n",
    "])"
   ]
  },
  {
   "cell_type": "code",
   "execution_count": null,
   "id": "earlier-plasma",
   "metadata": {},
   "outputs": [],
   "source": [
    "# Augment an image\n",
    "transformed_image = transform(image=image.astype('float32'))\n",
    "# transformed_image = transformed[\"image\"]\n",
    "\n",
    "plt.imshow(transformed_image, cmap='gray')\n",
    "plt.show()"
   ]
  },
  {
   "cell_type": "code",
   "execution_count": null,
   "id": "fuzzy-creek",
   "metadata": {},
   "outputs": [],
   "source": []
  }
 ],
 "metadata": {
  "kernelspec": {
   "display_name": "Python 3",
   "language": "python",
   "name": "python3"
  },
  "language_info": {
   "codemirror_mode": {
    "name": "ipython",
    "version": 3
   },
   "file_extension": ".py",
   "mimetype": "text/x-python",
   "name": "python",
   "nbconvert_exporter": "python",
   "pygments_lexer": "ipython3",
   "version": "3.8.8"
  }
 },
 "nbformat": 4,
 "nbformat_minor": 5
}
