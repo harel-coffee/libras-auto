{
 "cells": [
  {
   "cell_type": "code",
   "execution_count": 1,
   "id": "liable-connecticut",
   "metadata": {},
   "outputs": [],
   "source": [
    "%load_ext autoreload\n",
    "%autoreload 2"
   ]
  },
  {
   "cell_type": "code",
   "execution_count": 2,
   "id": "immediate-testament",
   "metadata": {},
   "outputs": [],
   "source": [
    "import pickle\n",
    "import matplotlib.pyplot as plt\n",
    "import numpy as np\n",
    "import cv2\n",
    "\n",
    "from sklearn.model_selection import KFold, StratifiedKFold, cross_val_score\n",
    "\n",
    "from sklearn.ensemble import RandomForestClassifier, GradientBoostingClassifier\n",
    "from sklearn.neighbors import KNeighborsClassifier\n",
    "from sklearn.svm import SVC, SVR\n",
    "\n",
    "from sklearn.decomposition import PCA\n",
    "from sklearn.discriminant_analysis import LinearDiscriminantAnalysis as LDA\n",
    "from sklearn.manifold import TSNE\n",
    "\n",
    "from src.utils.feats import load_gei"
   ]
  },
  {
   "cell_type": "code",
   "execution_count": 3,
   "id": "comfortable-adolescent",
   "metadata": {},
   "outputs": [],
   "source": [
    "# Kfold\n",
    "n_splits = 3\n",
    "cv = KFold(n_splits=n_splits, random_state=42, shuffle=True)\n",
    "    \n",
    "# classifier\n",
    "model = RandomForestClassifier(n_estimators=150, max_depth=None, random_state=0, criterion='gini')    "
   ]
  },
  {
   "cell_type": "code",
   "execution_count": 4,
   "id": "amino-captain",
   "metadata": {},
   "outputs": [],
   "source": [
    "def evaluate(resize, crop, model, cv):\n",
    "    datapath = \"../data/feats/database24_gei_480x640.pkl\"\n",
    "    \n",
    "    X, y = load_gei(datapath, dim=resize, crop_person=crop)           \n",
    "    \n",
    "    # run\n",
    "    scores = cross_val_score(model, X, y, scoring='accuracy', cv=cv, n_jobs=-1)\n",
    "    print(f\"mean acc: {100*scores.mean():.5f} +/- {100*scores.std():.5f}\")"
   ]
  },
  {
   "cell_type": "code",
   "execution_count": 5,
   "id": "thorough-dialogue",
   "metadata": {},
   "outputs": [
    {
     "name": "stdout",
     "output_type": "stream",
     "text": [
      "mean acc: 72.94281 +/- 1.58273\n"
     ]
    }
   ],
   "source": [
    "# 50x50 without crop (correspondent to LASCAS, but lower due to implementation)\n",
    "evaluate(resize=(50,50), crop=False, model=model, cv=cv)"
   ]
  },
  {
   "cell_type": "code",
   "execution_count": 6,
   "id": "tracked-quick",
   "metadata": {},
   "outputs": [
    {
     "name": "stdout",
     "output_type": "stream",
     "text": [
      "mean acc: 83.00106 +/- 2.30744\n"
     ]
    }
   ],
   "source": [
    "# cropping movement\n",
    "evaluate(resize=(50,50), crop=True, model=model, cv=cv)"
   ]
  },
  {
   "cell_type": "code",
   "execution_count": 7,
   "id": "existing-rebecca",
   "metadata": {},
   "outputs": [
    {
     "name": "stdout",
     "output_type": "stream",
     "text": [
      "mean acc: 83.91581 +/- 1.77663\n"
     ]
    }
   ],
   "source": [
    "# crop movement and keep aspect ratio\n",
    "evaluate(resize=(64,48), crop=True, model=model, cv=cv)"
   ]
  },
  {
   "cell_type": "code",
   "execution_count": null,
   "id": "extended-central",
   "metadata": {},
   "outputs": [],
   "source": []
  }
 ],
 "metadata": {
  "kernelspec": {
   "display_name": "Python 3",
   "language": "python",
   "name": "python3"
  },
  "language_info": {
   "codemirror_mode": {
    "name": "ipython",
    "version": 3
   },
   "file_extension": ".py",
   "mimetype": "text/x-python",
   "name": "python",
   "nbconvert_exporter": "python",
   "pygments_lexer": "ipython3",
   "version": "3.8.8"
  }
 },
 "nbformat": 4,
 "nbformat_minor": 5
}
