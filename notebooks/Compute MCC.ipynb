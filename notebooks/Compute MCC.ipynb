{
 "cells": [
  {
   "cell_type": "code",
   "execution_count": 1,
   "metadata": {},
   "outputs": [],
   "source": [
    "%load_ext autoreload\n",
    "%reload_ext autoreload\n",
    "%autoreload 1"
   ]
  },
  {
   "cell_type": "code",
   "execution_count": 2,
   "metadata": {},
   "outputs": [],
   "source": [
    "import sys\n",
    "import os \n",
    "import numpy as np\n",
    "sys.path.append('../src/detectron2/projects/DensePose')\n",
    "from src.utils.results import open_pickle, multiclass_mcc"
   ]
  },
  {
   "cell_type": "code",
   "execution_count": 3,
   "metadata": {},
   "outputs": [],
   "source": [
    "root_dir = '../results'\n",
    "method = 'random2'"
   ]
  },
  {
   "cell_type": "code",
   "execution_count": 4,
   "metadata": {},
   "outputs": [],
   "source": [
    "def load_cfn_mtx(dataset):\n",
    "    if dataset == 'CEFET':\n",
    "        from src.dataset.dataset import CLASSES # CEFET\n",
    "        mtx_name = 'cfn_mtx'\n",
    "        \n",
    "    elif dataset == 'MINDS':\n",
    "        from src.dataset.MINDS import CLASSES_en as CLASSES # MINDS\n",
    "        mtx_name = 'cfn_mtx'\n",
    "        \n",
    "    elif dataset == 'UFOP':\n",
    "        from src.dataset.UFOP import classes as CLASSES # UFOP\n",
    "        mtx_name = 'cfn_mtx_cat_all'\n",
    "        \n",
    "    return open_pickle(os.path.join(root_dir, method, dataset, f'{mtx_name}.pkl'))"
   ]
  },
  {
   "cell_type": "code",
   "execution_count": 5,
   "metadata": {},
   "outputs": [],
   "source": [
    "# quick test to see if it is correct"
   ]
  },
  {
   "cell_type": "code",
   "execution_count": 6,
   "metadata": {},
   "outputs": [
    {
     "name": "stdout",
     "output_type": "stream",
     "text": [
      "[[6 2]\n",
      " [1 3]]\n"
     ]
    },
    {
     "data": {
      "text/plain": [
       "0.47809144373375745"
      ]
     },
     "execution_count": 6,
     "metadata": {},
     "output_type": "execute_result"
    }
   ],
   "source": [
    "tst = np.array([[6,2],[1,3]])\n",
    "print(tst)\n",
    "multiclass_mcc(tst)"
   ]
  },
  {
   "cell_type": "markdown",
   "metadata": {},
   "source": [
    "seems ok!"
   ]
  },
  {
   "cell_type": "code",
   "execution_count": 7,
   "metadata": {},
   "outputs": [],
   "source": [
    "# now in our results"
   ]
  },
  {
   "cell_type": "code",
   "execution_count": 8,
   "metadata": {},
   "outputs": [
    {
     "name": "stdout",
     "output_type": "stream",
     "text": [
      "CEFET\n",
      "0.848+/-0.032\n",
      "\n",
      "MINDS\n",
      "0.839+/-0.019\n",
      "\n",
      "UFOP\n",
      "0.645+/-0.038\n",
      "\n"
     ]
    }
   ],
   "source": [
    "for dataset in ['CEFET', 'MINDS', 'UFOP']:\n",
    "    mcc = []    \n",
    "    all_cfn_mtx = load_cfn_mtx(dataset)\n",
    "\n",
    "    for cfn_mtx in all_cfn_mtx.values():\n",
    "        mcc.append(multiclass_mcc(cfn_mtx))\n",
    "    print(f\"{dataset}\")\n",
    "#     print(mcc)\n",
    "    print(f'{np.mean(mcc):.3f}+/-{np.std(mcc):.3f}\\n')"
   ]
  },
  {
   "cell_type": "code",
   "execution_count": null,
   "metadata": {},
   "outputs": [],
   "source": []
  }
 ],
 "metadata": {
  "kernelspec": {
   "display_name": "Python 3",
   "language": "python",
   "name": "python3"
  },
  "language_info": {
   "codemirror_mode": {
    "name": "ipython",
    "version": 3
   },
   "file_extension": ".py",
   "mimetype": "text/x-python",
   "name": "python",
   "nbconvert_exporter": "python",
   "pygments_lexer": "ipython3",
   "version": "3.8.5"
  }
 },
 "nbformat": 4,
 "nbformat_minor": 4
}
